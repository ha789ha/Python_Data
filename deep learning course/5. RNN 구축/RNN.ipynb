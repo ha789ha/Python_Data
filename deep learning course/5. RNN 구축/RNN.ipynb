{
  "cells": [
    {
      "cell_type": "markdown",
      "metadata": {
        "colab_type": "text",
        "id": "xpAuMVCwfWs8"
      },
      "source": [
        "# Recurrent Neural Network"
      ]
    },
    {
      "cell_type": "markdown",
      "metadata": {
        "colab_type": "text",
        "id": "nxJfRe4bfYVA"
      },
      "source": [
        "## Part 1 - Data Preprocessing"
      ]
    },
    {
      "cell_type": "markdown",
      "metadata": {
        "colab_type": "text",
        "id": "ir9zwETrfbrp"
      },
      "source": [
        "### Importing the libraries"
      ]
    },
    {
      "cell_type": "code",
      "execution_count": 35,
      "metadata": {},
      "outputs": [],
      "source": [
        "import pandas as pd\n",
        "import matplotlib.pyplot as plt\n",
        "import numpy as np"
      ]
    },
    {
      "cell_type": "markdown",
      "metadata": {
        "colab_type": "text",
        "id": "nQ47JAxrgmaL"
      },
      "source": [
        "### Importing the training set"
      ]
    },
    {
      "cell_type": "code",
      "execution_count": 36,
      "metadata": {},
      "outputs": [],
      "source": [
        "detaset_train = pd.read_csv(\"Google_Stock_Price_Train.csv\")\n",
        "train_set = detaset_train.iloc[:, 1:2].values # 구글 주가의 시초가 열만을 선택하여 numpy배열로 변환"
      ]
    },
    {
      "cell_type": "markdown",
      "metadata": {
        "colab_type": "text",
        "id": "HT8_2UJegtG5"
      },
      "source": [
        "### Feature Scaling"
      ]
    },
    {
      "cell_type": "code",
      "execution_count": 37,
      "metadata": {},
      "outputs": [],
      "source": [
        "from sklearn.preprocessing import MinMaxScaler\n",
        "sc = MinMaxScaler(feature_range=(0, 1))\n",
        "train_scaled_set = sc.fit_transform(train_set)"
      ]
    },
    {
      "cell_type": "markdown",
      "metadata": {
        "colab_type": "text",
        "id": "JyYgYocqhNUg"
      },
      "source": [
        "### Creating a data structure with 60 timesteps and 1 output"
      ]
    },
    {
      "cell_type": "code",
      "execution_count": 38,
      "metadata": {},
      "outputs": [],
      "source": [
        "## t번째 주가와 그 전에 60번의 주가를 따로 저장하여 정렬\n",
        "X_train = []\n",
        "y_train = []\n",
        "for i in range(60, 1258):\n",
        "    X_train.append(train_scaled_set[i-60:i, 0]) # list에 추가해주기 위해 [,0]을 삽입한다\n",
        "    y_train.append(train_scaled_set[i, 0])\n",
        "    \n",
        "X_train, y_train = np.array(X_train), np.array(y_train)"
      ]
    },
    {
      "cell_type": "markdown",
      "metadata": {
        "colab_type": "text",
        "id": "D8yaN7Zvi95l"
      },
      "source": [
        "### Reshaping"
      ]
    },
    {
      "cell_type": "code",
      "execution_count": 39,
      "metadata": {},
      "outputs": [],
      "source": [
        "X_train = np.reshape(X_train, (X_train.shape[0], X_train.shape[1], 1)) # 1차원은 배치사이즈, 2차원은 timestep, 3차원은 지표"
      ]
    },
    {
      "cell_type": "markdown",
      "metadata": {
        "colab_type": "text",
        "id": "ZRRSOJeVjEWV"
      },
      "source": [
        "## Part 2 - Building and Training the RNN"
      ]
    },
    {
      "cell_type": "markdown",
      "metadata": {
        "colab_type": "text",
        "id": "k4XV88JMjHXG"
      },
      "source": [
        "### Importing the Keras libraries and packages"
      ]
    },
    {
      "cell_type": "code",
      "execution_count": 40,
      "metadata": {},
      "outputs": [],
      "source": [
        "from keras.models import Sequential\n",
        "from keras.layers import Dense\n",
        "from keras.layers import LSTM\n",
        "from keras.layers import Dropout"
      ]
    },
    {
      "cell_type": "markdown",
      "metadata": {
        "colab_type": "text",
        "id": "FEIE-1s9jNzC"
      },
      "source": [
        "### Initialising the RNN"
      ]
    },
    {
      "cell_type": "code",
      "execution_count": 41,
      "metadata": {},
      "outputs": [],
      "source": [
        "regressor = Sequential()"
      ]
    },
    {
      "cell_type": "markdown",
      "metadata": {
        "colab_type": "text",
        "id": "62eg1OPGjT8z"
      },
      "source": [
        "### Adding the first LSTM layer and some Dropout regularisation"
      ]
    },
    {
      "cell_type": "code",
      "execution_count": 42,
      "metadata": {},
      "outputs": [],
      "source": [
        "regressor.add(LSTM(units=50, return_sequences=True, input_shape = (X_train.shape[1], 1))) # 다음 LSTM으로 Sequence를 전달\n",
        "regressor.add(Dropout(0.2)) #과적합을 피하기 위해 몇몇의 뉴런 네크워크를 누락"
      ]
    },
    {
      "cell_type": "markdown",
      "metadata": {
        "colab_type": "text",
        "id": "3XBIYLyOjlMx"
      },
      "source": [
        "### Adding a second LSTM layer and some Dropout regularisation"
      ]
    },
    {
      "cell_type": "code",
      "execution_count": 43,
      "metadata": {},
      "outputs": [],
      "source": [
        "regressor.add(LSTM(units=50, return_sequences=True))\n",
        "regressor.add(Dropout(0.2)) "
      ]
    },
    {
      "cell_type": "markdown",
      "metadata": {
        "colab_type": "text",
        "id": "Ey3fHVnGj1cu"
      },
      "source": [
        "### Adding a third LSTM layer and some Dropout regularisation"
      ]
    },
    {
      "cell_type": "code",
      "execution_count": 44,
      "metadata": {},
      "outputs": [],
      "source": [
        "regressor.add(LSTM(units=50, return_sequences=True))\n",
        "regressor.add(Dropout(0.2)) "
      ]
    },
    {
      "cell_type": "markdown",
      "metadata": {
        "colab_type": "text",
        "id": "SYTrtfTmj933"
      },
      "source": [
        "### Adding a fourth LSTM layer and some Dropout regularisation"
      ]
    },
    {
      "cell_type": "code",
      "execution_count": 45,
      "metadata": {},
      "outputs": [],
      "source": [
        "regressor.add(LSTM(units=50))\n",
        "regressor.add(Dropout(0.2)) "
      ]
    },
    {
      "cell_type": "markdown",
      "metadata": {
        "colab_type": "text",
        "id": "9ABI6rOIkHhk"
      },
      "source": [
        "### Adding the output layer"
      ]
    },
    {
      "cell_type": "code",
      "execution_count": 46,
      "metadata": {},
      "outputs": [],
      "source": [
        "regressor.add(Dense(units=1))"
      ]
    },
    {
      "cell_type": "markdown",
      "metadata": {
        "colab_type": "text",
        "id": "zLx4K7uUkPSh"
      },
      "source": [
        "### Compiling the RNN"
      ]
    },
    {
      "cell_type": "code",
      "execution_count": 47,
      "metadata": {},
      "outputs": [],
      "source": [
        "regressor.compile(optimizer=\"adam\", loss=\"mean_squared_error\")"
      ]
    },
    {
      "cell_type": "markdown",
      "metadata": {
        "colab_type": "text",
        "id": "-mPhwKGkkebi"
      },
      "source": [
        "### Fitting the RNN to the Training set"
      ]
    },
    {
      "cell_type": "code",
      "execution_count": 48,
      "metadata": {},
      "outputs": [
        {
          "name": "stdout",
          "output_type": "stream",
          "text": [
            "Epoch 1/100\n",
            "38/38 [==============================] - 9s 77ms/step - loss: 0.0461\n",
            "Epoch 2/100\n",
            "38/38 [==============================] - 3s 84ms/step - loss: 0.0067\n",
            "Epoch 3/100\n",
            "38/38 [==============================] - 3s 84ms/step - loss: 0.0054\n",
            "Epoch 4/100\n",
            "38/38 [==============================] - 3s 83ms/step - loss: 0.0051\n",
            "Epoch 5/100\n",
            "38/38 [==============================] - 3s 83ms/step - loss: 0.0047\n",
            "Epoch 6/100\n",
            "38/38 [==============================] - 3s 86ms/step - loss: 0.0049\n",
            "Epoch 7/100\n",
            "38/38 [==============================] - 3s 82ms/step - loss: 0.0049\n",
            "Epoch 8/100\n",
            "38/38 [==============================] - 3s 82ms/step - loss: 0.0041\n",
            "Epoch 9/100\n",
            "38/38 [==============================] - 3s 83ms/step - loss: 0.0040\n",
            "Epoch 10/100\n",
            "38/38 [==============================] - 4s 93ms/step - loss: 0.0042\n",
            "Epoch 11/100\n",
            "38/38 [==============================] - 3s 84ms/step - loss: 0.0041\n",
            "Epoch 12/100\n",
            "38/38 [==============================] - 3s 83ms/step - loss: 0.0047\n",
            "Epoch 13/100\n",
            "38/38 [==============================] - 3s 83ms/step - loss: 0.0042\n",
            "Epoch 14/100\n",
            "38/38 [==============================] - 3s 84ms/step - loss: 0.0043\n",
            "Epoch 15/100\n",
            "38/38 [==============================] - 3s 88ms/step - loss: 0.0039\n",
            "Epoch 16/100\n",
            "38/38 [==============================] - 3s 84ms/step - loss: 0.0037\n",
            "Epoch 17/100\n",
            "38/38 [==============================] - 3s 84ms/step - loss: 0.0035\n",
            "Epoch 18/100\n",
            "38/38 [==============================] - 3s 84ms/step - loss: 0.0035\n",
            "Epoch 19/100\n",
            "38/38 [==============================] - 3s 84ms/step - loss: 0.0034\n",
            "Epoch 20/100\n",
            "38/38 [==============================] - 3s 84ms/step - loss: 0.0031\n",
            "Epoch 21/100\n",
            "38/38 [==============================] - 3s 85ms/step - loss: 0.0033\n",
            "Epoch 22/100\n",
            "38/38 [==============================] - 3s 84ms/step - loss: 0.0035\n",
            "Epoch 23/100\n",
            "38/38 [==============================] - 3s 89ms/step - loss: 0.0034\n",
            "Epoch 24/100\n",
            "38/38 [==============================] - 3s 85ms/step - loss: 0.0033\n",
            "Epoch 25/100\n",
            "38/38 [==============================] - 3s 85ms/step - loss: 0.0035\n",
            "Epoch 26/100\n",
            "38/38 [==============================] - 3s 85ms/step - loss: 0.0037\n",
            "Epoch 27/100\n",
            "38/38 [==============================] - 3s 85ms/step - loss: 0.0033\n",
            "Epoch 28/100\n",
            "38/38 [==============================] - 3s 84ms/step - loss: 0.0028\n",
            "Epoch 29/100\n",
            "38/38 [==============================] - 3s 84ms/step - loss: 0.0029\n",
            "Epoch 30/100\n",
            "38/38 [==============================] - 3s 85ms/step - loss: 0.0029\n",
            "Epoch 31/100\n",
            "38/38 [==============================] - 3s 85ms/step - loss: 0.0036\n",
            "Epoch 32/100\n",
            "38/38 [==============================] - 3s 88ms/step - loss: 0.0029\n",
            "Epoch 33/100\n",
            "38/38 [==============================] - 3s 85ms/step - loss: 0.0025\n",
            "Epoch 34/100\n",
            "38/38 [==============================] - 3s 85ms/step - loss: 0.0030\n",
            "Epoch 35/100\n",
            "38/38 [==============================] - 3s 85ms/step - loss: 0.0032\n",
            "Epoch 36/100\n",
            "38/38 [==============================] - 3s 85ms/step - loss: 0.0027\n",
            "Epoch 37/100\n",
            "38/38 [==============================] - 3s 86ms/step - loss: 0.0028\n",
            "Epoch 38/100\n",
            "38/38 [==============================] - 3s 85ms/step - loss: 0.0027\n",
            "Epoch 39/100\n",
            "38/38 [==============================] - 3s 85ms/step - loss: 0.0033\n",
            "Epoch 40/100\n",
            "38/38 [==============================] - 3s 90ms/step - loss: 0.0027\n",
            "Epoch 41/100\n",
            "38/38 [==============================] - 3s 85ms/step - loss: 0.0029\n",
            "Epoch 42/100\n",
            "38/38 [==============================] - 3s 85ms/step - loss: 0.0027\n",
            "Epoch 43/100\n",
            "38/38 [==============================] - 3s 85ms/step - loss: 0.0026\n",
            "Epoch 44/100\n",
            "38/38 [==============================] - 3s 86ms/step - loss: 0.0025\n",
            "Epoch 45/100\n",
            "38/38 [==============================] - 3s 86ms/step - loss: 0.0024\n",
            "Epoch 46/100\n",
            "38/38 [==============================] - 3s 85ms/step - loss: 0.0027\n",
            "Epoch 47/100\n",
            "38/38 [==============================] - 3s 87ms/step - loss: 0.0027\n",
            "Epoch 48/100\n",
            "38/38 [==============================] - 3s 89ms/step - loss: 0.0025\n",
            "Epoch 49/100\n",
            "38/38 [==============================] - 4s 99ms/step - loss: 0.0022\n",
            "Epoch 50/100\n",
            "38/38 [==============================] - 4s 94ms/step - loss: 0.0024\n",
            "Epoch 51/100\n",
            "38/38 [==============================] - 3s 86ms/step - loss: 0.0024\n",
            "Epoch 52/100\n",
            "38/38 [==============================] - 3s 86ms/step - loss: 0.0021\n",
            "Epoch 53/100\n",
            "38/38 [==============================] - 4s 102ms/step - loss: 0.0026\n",
            "Epoch 54/100\n",
            "38/38 [==============================] - 3s 90ms/step - loss: 0.0023\n",
            "Epoch 55/100\n",
            "38/38 [==============================] - 3s 85ms/step - loss: 0.0023\n",
            "Epoch 56/100\n",
            "38/38 [==============================] - 3s 91ms/step - loss: 0.0023\n",
            "Epoch 57/100\n",
            "38/38 [==============================] - 3s 90ms/step - loss: 0.0021\n",
            "Epoch 58/100\n",
            "38/38 [==============================] - 3s 82ms/step - loss: 0.0021\n",
            "Epoch 59/100\n",
            "38/38 [==============================] - 4s 106ms/step - loss: 0.0022\n",
            "Epoch 60/100\n",
            "38/38 [==============================] - 4s 105ms/step - loss: 0.0024\n",
            "Epoch 61/100\n",
            "38/38 [==============================] - 3s 76ms/step - loss: 0.0020\n",
            "Epoch 62/100\n",
            "38/38 [==============================] - 3s 78ms/step - loss: 0.0020\n",
            "Epoch 63/100\n",
            "38/38 [==============================] - 3s 92ms/step - loss: 0.0022\n",
            "Epoch 64/100\n",
            "38/38 [==============================] - 3s 88ms/step - loss: 0.0021\n",
            "Epoch 65/100\n",
            "38/38 [==============================] - 3s 88ms/step - loss: 0.0020\n",
            "Epoch 66/100\n",
            "38/38 [==============================] - 3s 90ms/step - loss: 0.0020\n",
            "Epoch 67/100\n",
            "38/38 [==============================] - 3s 89ms/step - loss: 0.0021\n",
            "Epoch 68/100\n",
            "38/38 [==============================] - 3s 90ms/step - loss: 0.0020\n",
            "Epoch 69/100\n",
            "38/38 [==============================] - 3s 90ms/step - loss: 0.0019\n",
            "Epoch 70/100\n",
            "38/38 [==============================] - 3s 90ms/step - loss: 0.0019\n",
            "Epoch 71/100\n",
            "38/38 [==============================] - 4s 92ms/step - loss: 0.0018\n",
            "Epoch 72/100\n",
            "38/38 [==============================] - 4s 95ms/step - loss: 0.0019\n",
            "Epoch 73/100\n",
            "38/38 [==============================] - 3s 88ms/step - loss: 0.0019\n",
            "Epoch 74/100\n",
            "38/38 [==============================] - 3s 91ms/step - loss: 0.0019\n",
            "Epoch 75/100\n",
            "38/38 [==============================] - 3s 91ms/step - loss: 0.0020\n",
            "Epoch 76/100\n",
            "38/38 [==============================] - 3s 92ms/step - loss: 0.0017\n",
            "Epoch 77/100\n",
            "38/38 [==============================] - 4s 93ms/step - loss: 0.0019\n",
            "Epoch 78/100\n",
            "38/38 [==============================] - 3s 82ms/step - loss: 0.0019\n",
            "Epoch 79/100\n",
            "38/38 [==============================] - 3s 84ms/step - loss: 0.0019\n",
            "Epoch 80/100\n",
            "38/38 [==============================] - 3s 89ms/step - loss: 0.0018\n",
            "Epoch 81/100\n",
            "38/38 [==============================] - 3s 85ms/step - loss: 0.0017\n",
            "Epoch 82/100\n",
            "38/38 [==============================] - 3s 85ms/step - loss: 0.0016\n",
            "Epoch 83/100\n",
            "38/38 [==============================] - 3s 87ms/step - loss: 0.0015\n",
            "Epoch 84/100\n",
            "38/38 [==============================] - 3s 85ms/step - loss: 0.0018\n",
            "Epoch 85/100\n",
            "38/38 [==============================] - 3s 85ms/step - loss: 0.0016\n",
            "Epoch 86/100\n",
            "38/38 [==============================] - 3s 86ms/step - loss: 0.0016\n",
            "Epoch 87/100\n",
            "38/38 [==============================] - 3s 84ms/step - loss: 0.0015\n",
            "Epoch 88/100\n",
            "38/38 [==============================] - 3s 85ms/step - loss: 0.0016\n",
            "Epoch 89/100\n",
            "38/38 [==============================] - 3s 88ms/step - loss: 0.0017\n",
            "Epoch 90/100\n",
            "38/38 [==============================] - 3s 83ms/step - loss: 0.0017\n",
            "Epoch 91/100\n",
            "38/38 [==============================] - 3s 87ms/step - loss: 0.0016\n",
            "Epoch 92/100\n",
            "38/38 [==============================] - 3s 85ms/step - loss: 0.0015\n",
            "Epoch 93/100\n",
            "38/38 [==============================] - 3s 84ms/step - loss: 0.0015\n",
            "Epoch 94/100\n",
            "38/38 [==============================] - 3s 84ms/step - loss: 0.0017\n",
            "Epoch 95/100\n",
            "38/38 [==============================] - 3s 85ms/step - loss: 0.0015\n",
            "Epoch 96/100\n",
            "38/38 [==============================] - 3s 84ms/step - loss: 0.0015\n",
            "Epoch 97/100\n",
            "38/38 [==============================] - 3s 88ms/step - loss: 0.0018\n",
            "Epoch 98/100\n",
            "38/38 [==============================] - 3s 84ms/step - loss: 0.0014\n",
            "Epoch 99/100\n",
            "38/38 [==============================] - 3s 84ms/step - loss: 0.0013\n",
            "Epoch 100/100\n",
            "38/38 [==============================] - 3s 84ms/step - loss: 0.0014\n"
          ]
        },
        {
          "data": {
            "text/plain": [
              "<keras.callbacks.History at 0x7f99af4a4df0>"
            ]
          },
          "execution_count": 48,
          "metadata": {},
          "output_type": "execute_result"
        }
      ],
      "source": [
        "regressor.fit(X_train, y_train, epochs=100, batch_size=32)"
      ]
    },
    {
      "cell_type": "markdown",
      "metadata": {
        "colab_type": "text",
        "id": "4hRau_lIkrE8"
      },
      "source": [
        "## Part 3 - Making the predictions and visualising the results"
      ]
    },
    {
      "cell_type": "markdown",
      "metadata": {
        "colab_type": "text",
        "id": "SgJO6qEDksxD"
      },
      "source": [
        "### Getting the real stock price of 2017"
      ]
    },
    {
      "cell_type": "code",
      "execution_count": 53,
      "metadata": {},
      "outputs": [],
      "source": [
        "dataset_test = pd.read_csv(\"Google_Stock_Price_Test.csv\")\n",
        "real_stock_price = dataset_test.iloc[:, 1:2].values"
      ]
    },
    {
      "cell_type": "markdown",
      "metadata": {
        "colab_type": "text",
        "id": "GrvrLblxkz42"
      },
      "source": [
        "### Getting the predicted stock price of 2017"
      ]
    },
    {
      "cell_type": "code",
      "execution_count": 55,
      "metadata": {},
      "outputs": [],
      "source": [
        "dataset_total = pd.concat((detaset_train['Open'], dataset_test['Open']), axis=0)\n",
        "inputs = dataset_total[len(dataset_total) - len(dataset_test) - 60:].values\n",
        "inputs = inputs.reshape(-1, 1)\n",
        "inputs = sc.transform(inputs)"
      ]
    },
    {
      "cell_type": "code",
      "execution_count": 56,
      "metadata": {},
      "outputs": [
        {
          "name": "stdout",
          "output_type": "stream",
          "text": [
            "1/1 [==============================] - 2s 2s/step\n"
          ]
        }
      ],
      "source": [
        "X_test = []\n",
        "for i in range(60, 80):\n",
        "    X_test.append(inputs[i-60:i, 0]) # list에 추가해주기 위해 [,0]을 삽입한다\n",
        "    \n",
        "X_test = np.array(X_test)\n",
        "X_test = np.reshape(X_test, (X_test.shape[0], X_test.shape[1], 1))\n",
        "predicted_price = regressor.predict(X_test)\n",
        "predicted_price = sc.inverse_transform(predicted_price) # 값을 Transform하기 전의 값으로 돌려줘야 한다\n"
      ]
    },
    {
      "cell_type": "code",
      "execution_count": 57,
      "metadata": {},
      "outputs": [
        {
          "data": {
            "text/plain": [
              "array([[784.75726],\n",
              "       [782.1246 ],\n",
              "       [782.02   ],\n",
              "       [783.15356],\n",
              "       [786.3124 ],\n",
              "       [792.09393],\n",
              "       [797.808  ],\n",
              "       [800.7229 ],\n",
              "       [801.5602 ],\n",
              "       [801.3573 ],\n",
              "       [800.7986 ],\n",
              "       [800.1108 ],\n",
              "       [799.54626],\n",
              "       [799.7607 ],\n",
              "       [800.57794],\n",
              "       [804.8801 ],\n",
              "       [811.7009 ],\n",
              "       [819.405  ],\n",
              "       [824.2423 ],\n",
              "       [821.3771 ]], dtype=float32)"
            ]
          },
          "execution_count": 57,
          "metadata": {},
          "output_type": "execute_result"
        }
      ],
      "source": [
        "predicted_price"
      ]
    },
    {
      "cell_type": "markdown",
      "metadata": {
        "colab_type": "text",
        "id": "iFTNs3YHk6FQ"
      },
      "source": [
        "### Visualising the results"
      ]
    },
    {
      "cell_type": "code",
      "execution_count": 71,
      "metadata": {},
      "outputs": [
        {
          "data": {
            "image/png": "[encoded data removed]",
            "text/plain": [
              "<Figure size 432x288 with 1 Axes>"
            ]
          },
          "metadata": {
            "needs_background": "light"
          },
          "output_type": "display_data"
        }
      ],
      "source": [
        "plt.plot(real_stock_price, color = 'black', label=\"Real Google Stock Price\")\n",
        "plt.plot(predicted_price, color= \"red\", label=\"Predicted Google Stock Price\")\n",
        "plt.title('Google Stock Prediction')\n",
        "plt.xlabel('Time')\n",
        "plt.ylabel('stock_price')\n",
        "plt.legend()\n",
        "plt.show()"
      ]
    },
    {
      "cell_type": "markdown",
      "metadata": {},
      "source": [
        "#### 결론적으로 비선형적인 변화에는 대응할 수 없었지만 선형적인 변화(추세선)에 대해서는 잘 반응한다는 것을 볼 수 있다"
      ]
    },
    {
      "cell_type": "markdown",
      "metadata": {},
      "source": []
    }
  ],
  "metadata": {
    "colab": {
      "collapsed_sections": [],
      "name": "recurrent_neural_network.ipynb",
      "provenance": []
    },
    "kernelspec": {
      "display_name": "Python 3",
      "name": "python3"
    },
    "language_info": {
      "codemirror_mode": {
        "name": "ipython",
        "version": 3
      },
      "file_extension": ".py",
      "mimetype": "text/x-python",
      "name": "python",
      "nbconvert_exporter": "python",
      "pygments_lexer": "ipython3",
      "version": "3.9.12"
    }
  },
  "nbformat": 4,
  "nbformat_minor": 0
}
