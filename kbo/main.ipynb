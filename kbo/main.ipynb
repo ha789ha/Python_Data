{
 "cells": [
  {
   "cell_type": "code",
   "execution_count": 1,
   "metadata": {},
   "outputs": [],
   "source": [
    "import matplotlib\n",
    "import matplotlib.pyplot as plt\n",
    "import pandas as pd\n",
    "import numpy as np\n",
    "import seaborn as sns\n",
    "matplotlib.rcParams['font.family'] = 'Malgun Gothic' #windows\n",
    "matplotlib.rcParams['font.size'] = 15\n",
    "matplotlib.rcParams['axes.unicode_minus'] = False"
   ]
  },
  {
   "cell_type": "code",
   "execution_count": 9,
   "metadata": {},
   "outputs": [
    {
     "data": {
      "text/html": [
       "<div>\n",
       "<style scoped>\n",
       "    .dataframe tbody tr th:only-of-type {\n",
       "        vertical-align: middle;\n",
       "    }\n",
       "\n",
       "    .dataframe tbody tr th {\n",
       "        vertical-align: top;\n",
       "    }\n",
       "\n",
       "    .dataframe thead th {\n",
       "        text-align: right;\n",
       "    }\n",
       "</style>\n",
       "<table border=\"1\" class=\"dataframe\">\n",
       "  <thead>\n",
       "    <tr style=\"text-align: right;\">\n",
       "      <th></th>\n",
       "      <th>이름</th>\n",
       "      <th>나이</th>\n",
       "      <th>경기수</th>\n",
       "      <th>타수</th>\n",
       "      <th>타석수</th>\n",
       "      <th>득점</th>\n",
       "      <th>안타</th>\n",
       "      <th>2루타</th>\n",
       "      <th>3루타</th>\n",
       "      <th>홈런</th>\n",
       "    </tr>\n",
       "  </thead>\n",
       "  <tbody>\n",
       "    <tr>\n",
       "      <th>0</th>\n",
       "      <td>강경학</td>\n",
       "      <td>26</td>\n",
       "      <td>77</td>\n",
       "      <td>289</td>\n",
       "      <td>245</td>\n",
       "      <td>42</td>\n",
       "      <td>68</td>\n",
       "      <td>11</td>\n",
       "      <td>1</td>\n",
       "      <td>5</td>\n",
       "    </tr>\n",
       "    <tr>\n",
       "      <th>1</th>\n",
       "      <td>강동관</td>\n",
       "      <td>20</td>\n",
       "      <td>2</td>\n",
       "      <td>2</td>\n",
       "      <td>2</td>\n",
       "      <td>0</td>\n",
       "      <td>0</td>\n",
       "      <td>0</td>\n",
       "      <td>0</td>\n",
       "      <td>0</td>\n",
       "    </tr>\n",
       "    <tr>\n",
       "      <th>2</th>\n",
       "      <td>강동우</td>\n",
       "      <td>38</td>\n",
       "      <td>76</td>\n",
       "      <td>290</td>\n",
       "      <td>257</td>\n",
       "      <td>35</td>\n",
       "      <td>65</td>\n",
       "      <td>16</td>\n",
       "      <td>1</td>\n",
       "      <td>2</td>\n",
       "    </tr>\n",
       "    <tr>\n",
       "      <th>3</th>\n",
       "      <td>강민국</td>\n",
       "      <td>26</td>\n",
       "      <td>6</td>\n",
       "      <td>4</td>\n",
       "      <td>4</td>\n",
       "      <td>0</td>\n",
       "      <td>1</td>\n",
       "      <td>0</td>\n",
       "      <td>0</td>\n",
       "      <td>0</td>\n",
       "    </tr>\n",
       "    <tr>\n",
       "      <th>4</th>\n",
       "      <td>강민호</td>\n",
       "      <td>33</td>\n",
       "      <td>129</td>\n",
       "      <td>477</td>\n",
       "      <td>427</td>\n",
       "      <td>46</td>\n",
       "      <td>115</td>\n",
       "      <td>14</td>\n",
       "      <td>0</td>\n",
       "      <td>22</td>\n",
       "    </tr>\n",
       "  </tbody>\n",
       "</table>\n",
       "</div>"
      ],
      "text/plain": [
       "    이름  나이  경기수   타수  타석수  득점   안타  2루타  3루타  홈런\n",
       "0  강경학  26   77  289  245  42   68   11    1   5\n",
       "1  강동관  20    2    2    2   0    0    0    0   0\n",
       "2  강동우  38   76  290  257  35   65   16    1   2\n",
       "3  강민국  26    6    4    4   0    1    0    0   0\n",
       "4  강민호  33  129  477  427  46  115   14    0  22"
      ]
     },
     "execution_count": 9,
     "metadata": {},
     "output_type": "execute_result"
    }
   ],
   "source": [
    "# check Info about data\n",
    "kbo = pd.read_csv('kbo.csv', encoding='utf-8')\n",
    "kbo.head()"
   ]
  },
  {
   "cell_type": "code",
   "execution_count": 11,
   "metadata": {},
   "outputs": [
    {
     "data": {
      "text/plain": [
       "<AxesSubplot:>"
      ]
     },
     "execution_count": 11,
     "metadata": {},
     "output_type": "execute_result"
    },
    {
     "data": {
      "image/png": "[encoded data removed]",
      "text/plain": [
       "<Figure size 1800x720 with 2 Axes>"
      ]
     },
     "metadata": {
      "needs_background": "light"
     },
     "output_type": "display_data"
    }
   ],
   "source": [
    "# Check missing value about data\n",
    "import missingno as msno\n",
    "msno.matrix(kbo)"
   ]
  },
  {
   "cell_type": "code",
   "execution_count": 13,
   "metadata": {},
   "outputs": [
    {
     "data": {
      "text/html": [
       "<div>\n",
       "<style scoped>\n",
       "    .dataframe tbody tr th:only-of-type {\n",
       "        vertical-align: middle;\n",
       "    }\n",
       "\n",
       "    .dataframe tbody tr th {\n",
       "        vertical-align: top;\n",
       "    }\n",
       "\n",
       "    .dataframe thead th {\n",
       "        text-align: right;\n",
       "    }\n",
       "</style>\n",
       "<table border=\"1\" class=\"dataframe\">\n",
       "  <thead>\n",
       "    <tr style=\"text-align: right;\">\n",
       "      <th></th>\n",
       "      <th>나이</th>\n",
       "      <th>경기수</th>\n",
       "      <th>타수</th>\n",
       "      <th>타석수</th>\n",
       "      <th>득점</th>\n",
       "      <th>안타</th>\n",
       "      <th>2루타</th>\n",
       "      <th>3루타</th>\n",
       "      <th>홈런</th>\n",
       "    </tr>\n",
       "  </thead>\n",
       "  <tbody>\n",
       "    <tr>\n",
       "      <th>count</th>\n",
       "      <td>338.000000</td>\n",
       "      <td>338.000000</td>\n",
       "      <td>338.000000</td>\n",
       "      <td>338.000000</td>\n",
       "      <td>338.000000</td>\n",
       "      <td>338.000000</td>\n",
       "      <td>338.000000</td>\n",
       "      <td>338.000000</td>\n",
       "      <td>338.000000</td>\n",
       "    </tr>\n",
       "    <tr>\n",
       "      <th>mean</th>\n",
       "      <td>28.396450</td>\n",
       "      <td>69.795858</td>\n",
       "      <td>217.807692</td>\n",
       "      <td>192.118343</td>\n",
       "      <td>30.210059</td>\n",
       "      <td>54.718935</td>\n",
       "      <td>9.905325</td>\n",
       "      <td>0.757396</td>\n",
       "      <td>6.399408</td>\n",
       "    </tr>\n",
       "    <tr>\n",
       "      <th>std</th>\n",
       "      <td>5.106834</td>\n",
       "      <td>47.180156</td>\n",
       "      <td>202.288014</td>\n",
       "      <td>178.800016</td>\n",
       "      <td>31.705998</td>\n",
       "      <td>56.106678</td>\n",
       "      <td>11.132460</td>\n",
       "      <td>1.487940</td>\n",
       "      <td>9.877150</td>\n",
       "    </tr>\n",
       "    <tr>\n",
       "      <th>min</th>\n",
       "      <td>18.000000</td>\n",
       "      <td>1.000000</td>\n",
       "      <td>0.000000</td>\n",
       "      <td>0.000000</td>\n",
       "      <td>0.000000</td>\n",
       "      <td>0.000000</td>\n",
       "      <td>0.000000</td>\n",
       "      <td>0.000000</td>\n",
       "      <td>0.000000</td>\n",
       "    </tr>\n",
       "    <tr>\n",
       "      <th>25%</th>\n",
       "      <td>24.250000</td>\n",
       "      <td>24.000000</td>\n",
       "      <td>32.250000</td>\n",
       "      <td>29.000000</td>\n",
       "      <td>4.000000</td>\n",
       "      <td>6.000000</td>\n",
       "      <td>1.000000</td>\n",
       "      <td>0.000000</td>\n",
       "      <td>0.000000</td>\n",
       "    </tr>\n",
       "    <tr>\n",
       "      <th>50%</th>\n",
       "      <td>29.000000</td>\n",
       "      <td>69.000000</td>\n",
       "      <td>155.000000</td>\n",
       "      <td>137.500000</td>\n",
       "      <td>18.000000</td>\n",
       "      <td>31.500000</td>\n",
       "      <td>5.000000</td>\n",
       "      <td>0.000000</td>\n",
       "      <td>1.500000</td>\n",
       "    </tr>\n",
       "    <tr>\n",
       "      <th>75%</th>\n",
       "      <td>32.000000</td>\n",
       "      <td>115.000000</td>\n",
       "      <td>392.500000</td>\n",
       "      <td>342.750000</td>\n",
       "      <td>48.000000</td>\n",
       "      <td>92.750000</td>\n",
       "      <td>16.750000</td>\n",
       "      <td>1.000000</td>\n",
       "      <td>8.000000</td>\n",
       "    </tr>\n",
       "    <tr>\n",
       "      <th>max</th>\n",
       "      <td>41.000000</td>\n",
       "      <td>144.000000</td>\n",
       "      <td>649.000000</td>\n",
       "      <td>576.000000</td>\n",
       "      <td>130.000000</td>\n",
       "      <td>190.000000</td>\n",
       "      <td>47.000000</td>\n",
       "      <td>10.000000</td>\n",
       "      <td>47.000000</td>\n",
       "    </tr>\n",
       "  </tbody>\n",
       "</table>\n",
       "</div>"
      ],
      "text/plain": [
       "               나이         경기수          타수         타석수          득점          안타  \\\n",
       "count  338.000000  338.000000  338.000000  338.000000  338.000000  338.000000   \n",
       "mean    28.396450   69.795858  217.807692  192.118343   30.210059   54.718935   \n",
       "std      5.106834   47.180156  202.288014  178.800016   31.705998   56.106678   \n",
       "min     18.000000    1.000000    0.000000    0.000000    0.000000    0.000000   \n",
       "25%     24.250000   24.000000   32.250000   29.000000    4.000000    6.000000   \n",
       "50%     29.000000   69.000000  155.000000  137.500000   18.000000   31.500000   \n",
       "75%     32.000000  115.000000  392.500000  342.750000   48.000000   92.750000   \n",
       "max     41.000000  144.000000  649.000000  576.000000  130.000000  190.000000   \n",
       "\n",
       "              2루타         3루타          홈런  \n",
       "count  338.000000  338.000000  338.000000  \n",
       "mean     9.905325    0.757396    6.399408  \n",
       "std     11.132460    1.487940    9.877150  \n",
       "min      0.000000    0.000000    0.000000  \n",
       "25%      1.000000    0.000000    0.000000  \n",
       "50%      5.000000    0.000000    1.500000  \n",
       "75%     16.750000    1.000000    8.000000  \n",
       "max     47.000000   10.000000   47.000000  "
      ]
     },
     "execution_count": 13,
     "metadata": {},
     "output_type": "execute_result"
    }
   ],
   "source": [
    "kbo.describe()"
   ]
  },
  {
   "cell_type": "markdown",
   "metadata": {},
   "source": [
    "# Graph "
   ]
  },
  {
   "cell_type": "code",
   "execution_count": 22,
   "metadata": {},
   "outputs": [
    {
     "name": "stderr",
     "output_type": "stream",
     "text": [
      "c:\\Users\\hahav\\Python310\\lib\\site-packages\\seaborn\\_decorators.py:36: FutureWarning: Pass the following variables as keyword args: x, y. From version 0.12, the only valid positional argument will be `data`, and passing other arguments without an explicit keyword will result in an error or misinterpretation.\n",
      "  warnings.warn(\n"
     ]
    },
    {
     "data": {
      "text/plain": [
       "([<matplotlib.axis.XTick at 0x2376e2686d0>,\n",
       "  <matplotlib.axis.XTick at 0x2376e2686a0>,\n",
       "  <matplotlib.axis.XTick at 0x2376e26b9a0>,\n",
       "  <matplotlib.axis.XTick at 0x2376e2b0460>],\n",
       " [Text(0, 0, '10대'), Text(1, 0, '20대'), Text(2, 0, '30대'), Text(3, 0, '40대')])"
      ]
     },
     "execution_count": 22,
     "metadata": {},
     "output_type": "execute_result"
    },
    {
     "data": {
      "image/png": "[encoded data removed]",
      "text/plain": [
       "<Figure size 432x288 with 1 Axes>"
      ]
     },
     "metadata": {
      "needs_background": "light"
     },
     "output_type": "display_data"
    }
   ],
   "source": [
    "# Scatter the number of storkes by age\n",
    "age_group = kbo['age_group'] =  pd.cut(kbo.나이, bins=range(0, 42, 10))\n",
    "sns.boxplot(age_group, kbo.타수, data=kbo)\n",
    "index = np.arange(4)\n",
    "plt.xticks(index, ['10대', '20대', '30대', '40대'], color='b')"
   ]
  },
  {
   "cell_type": "code",
   "execution_count": 61,
   "metadata": {},
   "outputs": [
    {
     "data": {
      "image/png": "[encoded data removed]",
      "text/plain": [
       "<Figure size 432x288 with 1 Axes>"
      ]
     },
     "metadata": {
      "needs_background": "light"
     },
     "output_type": "display_data"
    }
   ],
   "source": [
    "# barplot number of games rate\n",
    "game_group = kbo['경기수그룹'] = pd.cut(kbo.경기수, range(0, 150, 20))\n",
    "kbo.경기수그룹.value_counts().plot(kind='bar', color='blue', alpha=0.4)\n",
    "plt.xticks(rotation=0)\n",
    "plt.ylabel('경기수', rotation=45)\n",
    "plt.show()"
   ]
  }
 ],
 "metadata": {
  "kernelspec": {
   "display_name": "Python 3.10.2 64-bit",
   "language": "python",
   "name": "python3"
  },
  "language_info": {
   "codemirror_mode": {
    "name": "ipython",
    "version": 3
   },
   "file_extension": ".py",
   "mimetype": "text/x-python",
   "name": "python",
   "nbconvert_exporter": "python",
   "pygments_lexer": "ipython3",
   "version": "3.10.2"
  },
  "orig_nbformat": 4,
  "vscode": {
   "interpreter": {
    "hash": "635a455e9d0cdbc677692d4bc01f6172ace5a10e67d05bc82b5f249826b54459"
   }
  }
 },
 "nbformat": 4,
 "nbformat_minor": 2
}
