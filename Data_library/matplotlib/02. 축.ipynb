{
 "cells": [
  {
   "cell_type": "markdown",
   "id": "9c7f583c",
   "metadata": {},
   "source": [
    "# 2. 축\n"
   ]
  },
  {
   "cell_type": "code",
   "execution_count": 4,
   "id": "904acc8b",
   "metadata": {},
   "outputs": [],
   "source": [
    "import matplotlib\n",
    "import matplotlib.pyplot as plt\n",
    "matplotlib.rcParams['font.family'] = 'Malgun Gothic' #windows\n",
    "matplotlib.rcParams['font.size'] = 15\n",
    "matplotlib.rcParams['axes.unicode_minus'] = False"
   ]
  },
  {
   "cell_type": "code",
   "execution_count": 2,
   "id": "e6727d2b",
   "metadata": {},
   "outputs": [],
   "source": [
    "x = [1, 2, 3]\n",
    "y = [2, 4, 8]"
   ]
  },
  {
   "cell_type": "code",
   "execution_count": 17,
   "id": "7e96cd4d",
   "metadata": {},
   "outputs": [
    {
     "data": {
      "image/png": "[encoded data removed]",
      "text/plain": [
       "<Figure size 432x288 with 1 Axes>"
      ]
     },
     "metadata": {
      "needs_background": "light"
     },
     "output_type": "display_data"
    }
   ],
   "source": [
    "# 그래프의 색깔, 라벨의 위치, 눈금 간격 등 정하기\n",
    "plt.plot(x, y, color='black')\n",
    "plt.title('꺾은선 그래프')\n",
    "plt.xlabel('x축', color='red', loc='right')\n",
    "plt.ylabel('y축', color='green', loc='top')\n",
    "plt.xticks([1, 2, 3])\n",
    "plt.yticks([3, 6, 9, 12])\n",
    "plt.show()"
   ]
  },
  {
   "cell_type": "code",
   "execution_count": null,
   "id": "312c5a29",
   "metadata": {},
   "outputs": [],
   "source": []
  },
  {
   "cell_type": "code",
   "execution_count": null,
   "id": "5255eb5d",
   "metadata": {},
   "outputs": [],
   "source": []
  }
 ],
 "metadata": {
  "kernelspec": {
   "display_name": "Python 3 (ipykernel)",
   "language": "python",
   "name": "python3"
  },
  "language_info": {
   "codemirror_mode": {
    "name": "ipython",
    "version": 3
   },
   "file_extension": ".py",
   "mimetype": "text/x-python",
   "name": "python",
   "nbconvert_exporter": "python",
   "pygments_lexer": "ipython3",
   "version": "3.10.2"
  }
 },
 "nbformat": 4,
 "nbformat_minor": 5
}
